{
 "cells": [
  {
   "cell_type": "markdown",
   "id": "fd8b6006",
   "metadata": {},
   "source": [
    "# 인물사진을 만들어 보자"
   ]
  },
  {
   "cell_type": "code",
   "execution_count": 1,
   "id": "9bbcbe11",
   "metadata": {},
   "outputs": [
    {
     "name": "stdout",
     "output_type": "stream",
     "text": [
      "4.5.3\n",
      "0.7.1\n"
     ]
    }
   ],
   "source": [
    "import os\n",
    "import urllib\n",
    "import cv2\n",
    "import numpy as np\n",
    "from pixellib.semantic import semantic_segmentation\n",
    "from matplotlib import pyplot as plt\n",
    "\n",
    "from importlib.metadata import version\n",
    "import pixellib\n",
    "\n",
    "print(cv2.__version__)\n",
    "print(version('pixellib'))"
   ]
  },
  {
   "cell_type": "markdown",
   "id": "ddabd0f7",
   "metadata": {},
   "source": [
    "## Step 1. 인물모드 직접 해 보기"
   ]
  },
  {
   "cell_type": "code",
   "execution_count": 4,
   "id": "b7bbe295",
   "metadata": {},
   "outputs": [
    {
     "ename": "AttributeError",
     "evalue": "'NoneType' object has no attribute 'shape'",
     "output_type": "error",
     "traceback": [
      "\u001b[0;31m---------------------------------------------------------------------------\u001b[0m",
      "\u001b[0;31mAttributeError\u001b[0m                            Traceback (most recent call last)",
      "\u001b[0;32m/tmp/ipykernel_127/1298665227.py\u001b[0m in \u001b[0;36m<module>\u001b[0;34m\u001b[0m\n\u001b[1;32m     10\u001b[0m \u001b[0;34m\u001b[0m\u001b[0m\n\u001b[1;32m     11\u001b[0m \u001b[0;34m\u001b[0m\u001b[0m\n\u001b[0;32m---> 12\u001b[0;31m \u001b[0mprint\u001b[0m\u001b[0;34m(\u001b[0m\u001b[0mimg_orig\u001b[0m\u001b[0;34m.\u001b[0m\u001b[0mshape\u001b[0m\u001b[0;34m,\u001b[0m \u001b[0mimg_orig1\u001b[0m\u001b[0;34m.\u001b[0m\u001b[0mshape\u001b[0m\u001b[0;34m,\u001b[0m \u001b[0mimg_orig2\u001b[0m\u001b[0;34m.\u001b[0m\u001b[0mshape\u001b[0m\u001b[0;34m,\u001b[0m \u001b[0mimg_orig3\u001b[0m\u001b[0;34m.\u001b[0m\u001b[0mshape\u001b[0m\u001b[0;34m)\u001b[0m\u001b[0;34m\u001b[0m\u001b[0;34m\u001b[0m\u001b[0m\n\u001b[0m\u001b[1;32m     13\u001b[0m \u001b[0;34m\u001b[0m\u001b[0m\n\u001b[1;32m     14\u001b[0m \u001b[0mplt\u001b[0m\u001b[0;34m.\u001b[0m\u001b[0mimshow\u001b[0m\u001b[0;34m(\u001b[0m\u001b[0mcv2\u001b[0m\u001b[0;34m.\u001b[0m\u001b[0mcvtColor\u001b[0m\u001b[0;34m(\u001b[0m\u001b[0mimg_orig\u001b[0m\u001b[0;34m,\u001b[0m \u001b[0mcv2\u001b[0m\u001b[0;34m.\u001b[0m\u001b[0mCOLOR_BGR2RGB\u001b[0m\u001b[0;34m)\u001b[0m\u001b[0;34m)\u001b[0m\u001b[0;34m\u001b[0m\u001b[0;34m\u001b[0m\u001b[0m\n",
      "\u001b[0;31mAttributeError\u001b[0m: 'NoneType' object has no attribute 'shape'"
     ]
    }
   ],
   "source": [
    "# img_path1 = os.getenv('HOME')+'/aiffel/human_segmentation_1/images/my_image.png'  \n",
    "# img_orig1 = cv2.imread(img_path) \n",
    "# img_path = os.getenv('HOME')+'/aiffel/human_segmentation_1/images/image1.jpg'  \n",
    "# img_orig = cv2.imread(img_path) \n",
    "# img_path2 = os.getenv('HOME')+'/aiffel/human_segmentation_1/images/image2.jpg'  \n",
    "# img_orig2 = cv2.imread(img_path2) \n",
    "img_path = os.getenv('HOME')+'/aiffel/human_segmentation_1/images/image3.jpg'\n",
    "img_orig = cv2.imread(img_path) \n",
    "\n",
    "\n",
    "print(img_orig.shape, img_orig1.shape, img_orig2.shape, img_orig3.shape)\n",
    "\n",
    "plt.imshow(cv2.cvtColor(img_orig, cv2.COLOR_BGR2RGB))\n",
    "plt.show()\n",
    "# plt.imshow(cv2.cvtColor(img_orig1, cv2.COLOR_BGR2RGB))\n",
    "# plt.show()\n",
    "# plt.imshow(cv2.cvtColor(img_orig2, cv2.COLOR_BGR2RGB))\n",
    "# plt.show()\n",
    "# plt.imshow(cv2.cvtColor(img_orig3, cv2.COLOR_BGR2RGB))\n",
    "# plt.show()"
   ]
  },
  {
   "cell_type": "markdown",
   "id": "540d3454",
   "metadata": {},
   "source": [
    "### PixelLib로 우리가 사용할 세그멘테이션 모델을 생성"
   ]
  },
  {
   "cell_type": "code",
   "execution_count": null,
   "id": "76d3d893",
   "metadata": {},
   "outputs": [],
   "source": [
    "model_dir = os.getenv('HOME')+'/aiffel/human_segmentation_1/models' \n",
    "model_file = os.path.join(model_dir, 'deeplabv3_xception_tf_dim_ordering_tf_kernels.h5') \n",
    "\n",
    "model = semantic_segmentation() \n",
    "model.load_pascalvoc_model(model_file) # pascal voc에 대해 훈련된 예외 모델(model_file)을 로드하는 함수를 호출"
   ]
  },
  {
   "cell_type": "code",
   "execution_count": null,
   "id": "a18e4749",
   "metadata": {},
   "outputs": [],
   "source": [
    "# 세그멘테이션 컬러 설정\n",
    "seg_color = (128, 128, 192)\n",
    "\n",
    "# 모델을 사용하여 세그멘테이션 수행\n",
    "segvalues, output = model.segmentAsPascalvoc(img_path)\n",
    "\n",
    "# 세그멘테이션 맵 생성\n",
    "seg_map = np.all(output == seg_color, axis=-1)\n",
    "\n",
    "# 원본 이미지 복사\n",
    "img_show = img_orig.copy()\n",
    "\n",
    "# 마스크 생성 및 적용\n",
    "img_mask = seg_map.astype(np.uint8) * 255\n",
    "color_mask = cv2.applyColorMap(img_mask, cv2.COLORMAP_JET)\n",
    "img_show = cv2.addWeighted(img_show, 0.6, color_mask, 0.4, 0.0)\n",
    "\n",
    "# 배경 블러 처리\n",
    "img_orig_blur = cv2.blur(img_orig, (23, 23))  # 블러 처리\n",
    "img_mask_color = cv2.cvtColor(img_mask, cv2.COLOR_GRAY2BGR)  # 마스크를 컬러로 변환\n",
    "img_bg_mask = cv2.bitwise_not(img_mask_color)  # 반전 마스크 생성\n",
    "img_bg_blur = cv2.bitwise_and(img_orig_blur, img_bg_mask)  # 블러 적용된 배경 생성\n",
    "\n",
    "# 배경과 객체를 합성\n",
    "img_concat = np.where(img_mask_color == 255, img_orig, img_bg_blur)"
   ]
  },
  {
   "cell_type": "code",
   "execution_count": null,
   "id": "9b8917fb",
   "metadata": {},
   "outputs": [],
   "source": [
    "# 출력할 이미지 리스트와 제목 리스트\n",
    "images = [img_orig, img_concat]\n",
    "titles = [\"Original Image\", \"Segmented with Blurred Background\"]\n",
    "\n",
    "# 이미지 크기에 따라 동적으로 `figsize` 설정\n",
    "height, width, _ = img_orig.shape\n",
    "aspect_ratio = width / height  # 이미지 비율 계산\n",
    "fig_width = 10 * aspect_ratio  # 가로 크기를 조정\n",
    "fig_height = 5  # 기본 높이 설정\n",
    "\n",
    "# 서브플롯 생성 (가로로 나열)\n",
    "fig, axes = plt.subplots(1, len(images), figsize=(fig_width, fig_height))\n",
    "\n",
    "# 이미지 출력 (반복문 활용)\n",
    "for ax, img, title in zip(axes, images, titles):\n",
    "    ax.imshow(cv2.cvtColor(img, cv2.COLOR_BGR2RGB))\n",
    "    ax.set_title(title)\n",
    "    ax.axis(\"off\")\n",
    "\n",
    "# 레이아웃 자동 조정 후 출력\n",
    "plt.tight_layout()\n",
    "plt.show()"
   ]
  },
  {
   "cell_type": "code",
   "execution_count": null,
   "id": "b7bff39e",
   "metadata": {},
   "outputs": [],
   "source": []
  }
 ],
 "metadata": {
  "kernelspec": {
   "display_name": "Python 3 (ipykernel)",
   "language": "python",
   "name": "python3"
  },
  "language_info": {
   "codemirror_mode": {
    "name": "ipython",
    "version": 3
   },
   "file_extension": ".py",
   "mimetype": "text/x-python",
   "name": "python",
   "nbconvert_exporter": "python",
   "pygments_lexer": "ipython3",
   "version": "3.9.7"
  }
 },
 "nbformat": 4,
 "nbformat_minor": 5
}
