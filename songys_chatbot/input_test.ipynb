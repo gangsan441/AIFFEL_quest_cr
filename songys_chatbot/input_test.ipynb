{
 "cells": [
  {
   "cell_type": "code",
   "execution_count": 56,
   "id": "f118ac5c",
   "metadata": {},
   "outputs": [],
   "source": [
    "import re\n",
    "\n",
    "MAX_SAMPLES = 50000"
   ]
  },
  {
   "cell_type": "code",
   "execution_count": 57,
   "id": "a4678dd0",
   "metadata": {},
   "outputs": [
    {
     "name": "stdout",
     "output_type": "stream",
     "text": [
      "슝=3\n"
     ]
    }
   ],
   "source": [
    "# 전처리 함수\n",
    "def preprocess_sentence(sentence):\n",
    "  # 입력받은 sentence를 소문자로 변경하고 양쪽 공백을 제거\n",
    "    sentence = sentence.strip().lower()  \n",
    "\n",
    "    # 단어와 구두점(punctuation) 사이의 거리를 만듦\n",
    "    sentence = re.sub(r\"([?.!,])\", r\" \\1 \", sentence)\n",
    "    sentence = re.sub(r'[\" \"]+', \" \", sentence)\n",
    "\n",
    "    # (a-z, A-Z, 0-9, 한글, \".\", \"?\", \"!\", \",\")를 제외한 모든 문자를 공백(' ')으로 대체\n",
    "    sentence = re.sub(r\"[^a-zA-Z0-9ㄱ-ㅎ가-힣\\.\\?\\!,]\", \" \", sentence)  \n",
    "\n",
    "    sentence = sentence.strip()\n",
    "    \n",
    "    return sentence\n",
    "print(\"슝=3\")"
   ]
  },
  {
   "cell_type": "code",
   "execution_count": 58,
   "id": "12a0673f",
   "metadata": {},
   "outputs": [
    {
     "name": "stdout",
     "output_type": "stream",
     "text": [
      "슝=3\n"
     ]
    }
   ],
   "source": [
    "def load_conversations():\n",
    "  id2line = {}\n",
    "  inputs, outputs = [], []\n",
    "    \n",
    "  with open(\"ChatbotData.csv\", errors='ignore') as file:\n",
    "    lines = file.readlines()\n",
    "\n",
    "  for line in lines:\n",
    "    parts = line.replace('\\n', '').split(',')\n",
    "    inputs.append(preprocess_sentence(parts[0]))\n",
    "    outputs.append(preprocess_sentence(parts[1]))\n",
    "        \n",
    "  return inputs, outputs\n",
    "print(\"슝=3\")"
   ]
  },
  {
   "cell_type": "code",
   "execution_count": 59,
   "id": "5beb3829",
   "metadata": {},
   "outputs": [
    {
     "name": "stdout",
     "output_type": "stream",
     "text": [
      "전체 샘플 수 : 11824\n",
      "전체 샘플 수 : 11824\n"
     ]
    }
   ],
   "source": [
    "# 데이터를 로드하고 전처리하여 질문을 questions, 답변을 answers에 저장합니다.\n",
    "questions, answers = load_conversations()\n",
    "print('전체 샘플 수 :', len(questions))\n",
    "print('전체 샘플 수 :', len(answers))"
   ]
  },
  {
   "cell_type": "code",
   "execution_count": 60,
   "id": "4dee4b3b",
   "metadata": {
    "scrolled": true
   },
   "outputs": [
    {
     "name": "stdout",
     "output_type": "stream",
     "text": [
      "전처리 질문 샘플: q\n",
      "전처리 답변 샘플: a\n"
     ]
    }
   ],
   "source": [
    "print('전처리 질문 샘플: {}'.format(questions[0]))\n",
    "print('전처리 답변 샘플: {}'.format(answers[0]))"
   ]
  },
  {
   "cell_type": "code",
   "execution_count": 61,
   "id": "bc4aac86",
   "metadata": {},
   "outputs": [
    {
     "name": "stdout",
     "output_type": "stream",
     "text": [
      "전처리 질문 샘플: 12시 땡 !\n",
      "전처리 답변 샘플: 하루가 또 가네요 .\n"
     ]
    }
   ],
   "source": [
    "print('전처리 질문 샘플: {}'.format(questions[1]))\n",
    "print('전처리 답변 샘플: {}'.format(answers[1]))"
   ]
  },
  {
   "cell_type": "code",
   "execution_count": 62,
   "id": "5004f285",
   "metadata": {},
   "outputs": [
    {
     "name": "stdout",
     "output_type": "stream",
     "text": [
      "전처리 질문 샘플: 1지망 학교 떨어졌어\n",
      "전처리 답변 샘플: 위로해 드립니다 .\n"
     ]
    }
   ],
   "source": [
    "print('전처리 질문 샘플: {}'.format(questions[2]))\n",
    "print('전처리 답변 샘플: {}'.format(answers[2]))"
   ]
  },
  {
   "cell_type": "code",
   "execution_count": 63,
   "id": "6c8279af",
   "metadata": {},
   "outputs": [
    {
     "name": "stdout",
     "output_type": "stream",
     "text": [
      "전처리 질문 샘플: ppl 심하네\n",
      "전처리 답변 샘플: 눈살이 찌푸려지죠 .\n"
     ]
    }
   ],
   "source": [
    "print('전처리 질문 샘플: {}'.format(questions[5]))\n",
    "print('전처리 답변 샘플: {}'.format(answers[5]))"
   ]
  },
  {
   "cell_type": "code",
   "execution_count": 67,
   "id": "df1e50b2",
   "metadata": {},
   "outputs": [
    {
     "name": "stdout",
     "output_type": "stream",
     "text": [
      "전처리 질문 샘플: cc 레알 별로임 ?\n",
      "전처리 답변 샘플: 헤어질 경우 엮여 있는 사람이 많으니까요 .\n"
     ]
    }
   ],
   "source": [
    "print('전처리 질문 샘플: {}'.format(questions[8894]))\n",
    "print('전처리 답변 샘플: {}'.format(answers[8894]))"
   ]
  },
  {
   "cell_type": "code",
   "execution_count": null,
   "id": "2d4c7f16",
   "metadata": {},
   "outputs": [],
   "source": []
  }
 ],
 "metadata": {
  "kernelspec": {
   "display_name": "Python 3 (ipykernel)",
   "language": "python",
   "name": "python3"
  },
  "language_info": {
   "codemirror_mode": {
    "name": "ipython",
    "version": 3
   },
   "file_extension": ".py",
   "mimetype": "text/x-python",
   "name": "python",
   "nbconvert_exporter": "python",
   "pygments_lexer": "ipython3",
   "version": "3.9.7"
  }
 },
 "nbformat": 4,
 "nbformat_minor": 5
}
