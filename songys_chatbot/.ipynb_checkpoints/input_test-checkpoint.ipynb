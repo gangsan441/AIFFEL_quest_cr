{
 "cells": [
  {
   "cell_type": "code",
   "execution_count": 56,
   "id": "afb10c43",
   "metadata": {},
   "outputs": [],
   "source": [
    "import re\n",
    "\n",
    "MAX_SAMPLES = 50000"
   ]
  },
  {
   "cell_type": "code",
   "execution_count": 57,
   "id": "6cb0c134",
   "metadata": {},
   "outputs": [
    {
     "name": "stdout",
     "output_type": "stream",
     "text": [
      "슝=3\n"
     ]
    }
   ],
   "source": [
    "# 전처리 함수\n",
    "def preprocess_sentence(sentence):\n",
    "  # 입력받은 sentence를 소문자로 변경하고 양쪽 공백을 제거\n",
    "    sentence = sentence.strip().lower()  \n",
    "\n",
    "    # 단어와 구두점(punctuation) 사이의 거리를 만듦\n",
    "    sentence = re.sub(r\"([?.!,])\", r\" \\1 \", sentence)\n",
    "    sentence = re.sub(r'[\" \"]+', \" \", sentence)\n",
    "\n",
    "    # (a-z, A-Z, 한글, \".\", \"?\", \"!\", \",\")를 제외한 모든 문자를 공백(' ')으로 대체\n",
    "    sentence = re.sub(r\"[^a-zA-Z0-9ㄱ-ㅎ가-힣\\.\\?\\!,]\", \" \", sentence)  \n",
    "\n",
    "    sentence = sentence.strip()\n",
    "    \n",
    "    return sentence\n",
    "print(\"슝=3\")"
   ]
  },
  {
   "cell_type": "code",
   "execution_count": 58,
   "id": "18ed1b3e",
   "metadata": {},
   "outputs": [
    {
     "name": "stdout",
     "output_type": "stream",
     "text": [
      "슝=3\n"
     ]
    }
   ],
   "source": [
    "def load_conversations():\n",
    "  id2line = {}\n",
    "  inputs, outputs = [], []\n",
    "    \n",
    "  with open(\"ChatbotData.csv\", errors='ignore') as file:\n",
    "    lines = file.readlines()\n",
    "\n",
    "  for line in lines:\n",
    "    parts = line.replace('\\n', '').split(',')\n",
    "    inputs.append(preprocess_sentence(parts[0]))\n",
    "    outputs.append(preprocess_sentence(parts[1]))\n",
    "        \n",
    "#       if len(inputs) >= MAX_SAMPLES:\n",
    "#         return inputs, outputs\n",
    "  return inputs, outputs\n",
    "print(\"슝=3\")\n",
    "\n",
    "\n",
    "# # 질문과 답변의 쌍인 데이터셋을 구성하기 위한 데이터 로드 함수\n",
    "# def load_conversations():\n",
    "#   id2line = {}\n",
    "#   with open(\"movie_lines.txt\", errors='ignore') as file:\n",
    "#     lines = file.readlines()\n",
    "#   for line in lines:\n",
    "#     parts = line.replace('\\n', '').split(' +++$+++ ')\n",
    "#     id2line[parts[0]] = parts[4]\n",
    "#     print('@@ parts:', parts)\n",
    "#     print('@@ part[4]:', parts[4])\n",
    "\n",
    "#   inputs, outputs = [], []\n",
    "#   with open(\"movie_conversations.txt\", 'r') as file:\n",
    "#     lines = file.readlines()\n",
    "\n",
    "#   for line in lines:\n",
    "#     parts = line.replace('\\n', '').split(' +++$+++ ')\n",
    "#     conversation = [line[1:-1] for line in parts[3][1:-1].split(', ')]\n",
    "#     print('@@## parts:', parts)\n",
    "#     print('@@## conversation:', conversation)\n",
    "\n",
    "#     for i in range(len(conversation) - 1):\n",
    "#       # 전처리 함수를 질문에 해당되는 inputs와 답변에 해당되는 outputs에 적용.\n",
    "#       inputs.append(preprocess_sentence(id2line[conversation[i]]))\n",
    "#       outputs.append(preprocess_sentence(id2line[conversation[i + 1]]))\n",
    "\n",
    "#       if len(inputs) >= MAX_SAMPLES:\n",
    "#         return inputs, outputs\n",
    "#   return inputs, outputs\n",
    "# print(\"슝=3\")"
   ]
  },
  {
   "cell_type": "code",
   "execution_count": 59,
   "id": "870c614b",
   "metadata": {},
   "outputs": [
    {
     "name": "stdout",
     "output_type": "stream",
     "text": [
      "전체 샘플 수 : 11824\n",
      "전체 샘플 수 : 11824\n"
     ]
    }
   ],
   "source": [
    "# 데이터를 로드하고 전처리하여 질문을 questions, 답변을 answers에 저장합니다.\n",
    "questions, answers = load_conversations()\n",
    "print('전체 샘플 수 :', len(questions))\n",
    "print('전체 샘플 수 :', len(answers))"
   ]
  },
  {
   "cell_type": "code",
   "execution_count": 60,
   "id": "993435ca",
   "metadata": {
    "scrolled": true
   },
   "outputs": [
    {
     "name": "stdout",
     "output_type": "stream",
     "text": [
      "전처리 질문 샘플: q\n",
      "전처리 답변 샘플: a\n"
     ]
    }
   ],
   "source": [
    "print('전처리 질문 샘플: {}'.format(questions[0]))\n",
    "print('전처리 답변 샘플: {}'.format(answers[0]))"
   ]
  },
  {
   "cell_type": "code",
   "execution_count": 61,
   "id": "96ef4ccb",
   "metadata": {},
   "outputs": [
    {
     "name": "stdout",
     "output_type": "stream",
     "text": [
      "전처리 질문 샘플: 12시 땡 !\n",
      "전처리 답변 샘플: 하루가 또 가네요 .\n"
     ]
    }
   ],
   "source": [
    "print('전처리 질문 샘플: {}'.format(questions[1]))\n",
    "print('전처리 답변 샘플: {}'.format(answers[1]))"
   ]
  },
  {
   "cell_type": "code",
   "execution_count": 62,
   "id": "91a5a5c3",
   "metadata": {},
   "outputs": [
    {
     "name": "stdout",
     "output_type": "stream",
     "text": [
      "전처리 질문 샘플: 1지망 학교 떨어졌어\n",
      "전처리 답변 샘플: 위로해 드립니다 .\n"
     ]
    }
   ],
   "source": [
    "print('전처리 질문 샘플: {}'.format(questions[2]))\n",
    "print('전처리 답변 샘플: {}'.format(answers[2]))"
   ]
  },
  {
   "cell_type": "code",
   "execution_count": 63,
   "id": "6e02df1d",
   "metadata": {},
   "outputs": [
    {
     "name": "stdout",
     "output_type": "stream",
     "text": [
      "전처리 질문 샘플: ppl 심하네\n",
      "전처리 답변 샘플: 눈살이 찌푸려지죠 .\n"
     ]
    }
   ],
   "source": [
    "print('전처리 질문 샘플: {}'.format(questions[5]))\n",
    "print('전처리 답변 샘플: {}'.format(answers[5]))"
   ]
  },
  {
   "cell_type": "code",
   "execution_count": 64,
   "id": "8c4770ca",
   "metadata": {},
   "outputs": [
    {
     "name": "stdout",
     "output_type": "stream",
     "text": [
      "전처리 질문 샘플: sd카드 망가졌어\n",
      "전처리 답변 샘플: 다시 새로 사는 게 마음 편해요 .\n"
     ]
    }
   ],
   "source": [
    "print('전처리 질문 샘플: {}'.format(questions[6]))\n",
    "print('전처리 답변 샘플: {}'.format(answers[6]))"
   ]
  },
  {
   "cell_type": "code",
   "execution_count": null,
   "id": "4a37c738",
   "metadata": {},
   "outputs": [],
   "source": []
  }
 ],
 "metadata": {
  "kernelspec": {
   "display_name": "Python 3 (ipykernel)",
   "language": "python",
   "name": "python3"
  },
  "language_info": {
   "codemirror_mode": {
    "name": "ipython",
    "version": 3
   },
   "file_extension": ".py",
   "mimetype": "text/x-python",
   "name": "python",
   "nbconvert_exporter": "python",
   "pygments_lexer": "ipython3",
   "version": "3.9.7"
  }
 },
 "nbformat": 4,
 "nbformat_minor": 5
}
