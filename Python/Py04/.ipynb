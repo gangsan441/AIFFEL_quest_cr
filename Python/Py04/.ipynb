{
  "nbformat": 4,
  "nbformat_minor": 0,
  "metadata": {
    "colab": {
      "provenance": [],
      "toc_visible": true,
      "include_colab_link": true
    },
    "kernelspec": {
      "name": "python3",
      "display_name": "Python 3"
    },
    "language_info": {
      "name": "python"
    }
  },
  "cells": [
    {
      "cell_type": "markdown",
      "metadata": {
        "id": "view-in-github",
        "colab_type": "text"
      },
      "source": [
        "<a href=\"https://colab.research.google.com/github/FennexFox/AIFFEL_quest_cr_KSA/blob/master/Python/Py04/.ipynb\" target=\"_parent\"><img src=\"https://colab.research.google.com/assets/colab-badge.svg\" alt=\"Open In Colab\"/></a>"
      ]
    },
    {
      "cell_type": "code",
      "execution_count": 69,
      "metadata": {
        "id": "R310tlPZNw8D"
      },
      "outputs": [],
      "source": [
        "def calculator(int1, int2, operation):\n",
        "    result = \"\"\n",
        "\n",
        "    try:\n",
        "      if operation == '+':\n",
        "          result = int1 + int2\n",
        "      elif operation == '-':\n",
        "          result = int1 - int2\n",
        "      elif operation == '*':\n",
        "          result = int1 * int2\n",
        "      elif operation == '**':\n",
        "          result = int1 ** int2\n",
        "      elif operation == '/':\n",
        "          result = int1 / int2\n",
        "      else:\n",
        "          print('지원되지 않는 연산자입니다.')\n",
        "    except ZeroDivisionError:\n",
        "          print('0으로 나눌 수 없습니다!')\n",
        "\n",
        "    print(f\"계산한 값은 {result}입니다.\")\n",
        "    is_continue = input('계산을 계속하시겠습니까? (y/n)')\n",
        "\n",
        "    if is_continue.lower() == 'y':\n",
        "        calc_input()\n",
        "    else:\n",
        "        print('계산을 종료합니다.')"
      ]
    },
    {
      "cell_type": "code",
      "source": [],
      "metadata": {
        "id": "jLehuRXieKis"
      },
      "execution_count": null,
      "outputs": []
    },
    {
      "cell_type": "code",
      "source": [
        "def calc_input():\n",
        "  while True:\n",
        "    try:\n",
        "      int1 = int(input('첫 번째 정수를 입력해주세요.'))\n",
        "      int2 = int(input('두 번째 정수를 입력해주세요.'))\n",
        "      break\n",
        "    except ValueError as e:\n",
        "      print(f'잘못된 입력입니다. 정수를 입력해주세요. {e}')\n",
        "\n",
        "  while True:\n",
        "    try:\n",
        "      operation = str(input('연산자를 입력해주세요.'))\n",
        "      break\n",
        "    except ValueError as e:\n",
        "      print(f'잘못된 입력입니다. 문자로 입력해주세요. {e}')\n",
        "\n",
        "  calculator(int1, int2, operation)"
      ],
      "metadata": {
        "id": "1sWubrTxddSN"
      },
      "execution_count": 67,
      "outputs": []
    },
    {
      "cell_type": "code",
      "source": [
        "calc_input()"
      ],
      "metadata": {
        "id": "eWJK9kl7RwIp",
        "colab": {
          "base_uri": "https://localhost:8080/"
        },
        "outputId": "7b81a7d9-844f-48e4-c189-85e9575105f1"
      },
      "execution_count": 66,
      "outputs": [
        {
          "output_type": "stream",
          "name": "stdout",
          "text": [
            "첫 번째 정수를 입력해주세요.1\n",
            "두 번째 정수를 입력해주세요.2\n",
            "연산자를 입력해주세요./\n",
            "계산한 값은 0.5입니다.\n",
            "계산을 계속하시겠습니까? (y/n)n\n",
            "계산을 종료합니다.\n"
          ]
        }
      ]
    },
    {
      "cell_type": "markdown",
      "source": [
        "텍스트 블럭"
      ],
      "metadata": {
        "id": "DgOcNF4IOP7P"
      }
    }
  ]
}