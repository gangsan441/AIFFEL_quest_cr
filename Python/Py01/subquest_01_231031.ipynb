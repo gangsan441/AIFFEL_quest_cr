{
  "nbformat": 4,
  "nbformat_minor": 0,
  "metadata": {
    "colab": {
      "provenance": []
    },
    "kernelspec": {
      "name": "python3",
      "display_name": "Python 3"
    },
    "language_info": {
      "name": "python"
    }
  },
  "cells": [
    {
      "cell_type": "code",
      "source": [
        "# 회문 확인 프로그램\n",
        "\n",
        "def isPalindrome():\n",
        "  # 1. 문자열을 입력받고, 출력합니다.\n",
        "  input_word = input('입력값:\\n')\n",
        "  print()\n",
        "\n",
        "  # 2. 문자열을 뒤집는 과정입니다.\n",
        "  output_word = \"\"\n",
        "  num = len(input_word)\n",
        "  while num > 0 :\n",
        "    output_word = output_word + input_word[num - 1]\n",
        "    num = num - 1\n",
        "\n",
        "  # 3. 뒤집힌 문자열 출력합니다.\n",
        "  print('출력값:')\n",
        "  print('뒤집힌 단어:', output_word)\n",
        "\n",
        "\t# 4. 두 문자열 비교하고 결과를 출력합니다.\n",
        "  if input_word == output_word:\n",
        "      print('입력된 단어는 회문입니다.')\n",
        "  else:\n",
        "      print('입력된 단어는 회문이 아닙니다.')\n",
        "\n",
        "if __name__ == \"__main__\":\n",
        "  isPalindrome()"
      ],
      "metadata": {
        "id": "rJfaOlIhZcVI",
        "outputId": "7d567f01-9b5a-47d9-df21-ab90d0f2aac3",
        "colab": {
          "base_uri": "https://localhost:8080/"
        }
      },
      "execution_count": null,
      "outputs": [
        {
          "output_type": "stream",
          "name": "stdout",
          "text": [
            "입력값:\n",
            "우병지\n",
            "\n",
            "출력값:\n",
            "뒤집힌 단어: 지병우\n",
            "입력된 단어는 회문이 아닙니다.\n"
          ]
        }
      ]
    }
  ]
}